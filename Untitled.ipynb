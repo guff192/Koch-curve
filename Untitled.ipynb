{
 "cells": [
  {
   "cell_type": "code",
   "execution_count": 1,
   "metadata": {},
   "outputs": [],
   "source": [
    "import turtle\n",
    "\n",
    "\n",
    "def koch_turns(n):\n",
    "    turns = []\n",
    "    if n == 1:\n",
    "        turns = [60, -120, 60]\n",
    "    else:\n",
    "        for turn in koch_turns(n-1):\n",
    "            turns.append(60)\n",
    "            turns.append(-120)\n",
    "            turns.append(60)\n",
    "            turns.append(turn)\n",
    "        turns.append(60)\n",
    "        turns.append(-120)\n",
    "        turns.append(60)\n",
    "    return turns\n",
    "\n",
    "def turtle_koch_curve(n, line_length=10):\n",
    "    for move in koch_turns(n):\n",
    "        turtle.forward(line_length)\n",
    "        turtle.left(move)\n",
    "    turtle.forward(line_length)"
   ]
  }
 ],
 "metadata": {
  "kernelspec": {
   "display_name": "Python 3",
   "language": "python",
   "name": "python3"
  },
  "language_info": {
   "codemirror_mode": {
    "name": "ipython",
    "version": 3
   },
   "file_extension": ".py",
   "mimetype": "text/x-python",
   "name": "python",
   "nbconvert_exporter": "python",
   "pygments_lexer": "ipython3",
   "version": "3.6.3"
  }
 },
 "nbformat": 4,
 "nbformat_minor": 2
}
